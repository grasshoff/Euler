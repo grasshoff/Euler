{
 "cells": [
  {
   "cell_type": "code",
   "execution_count": 1,
   "id": "alike-honolulu",
   "metadata": {},
   "outputs": [
    {
     "data": {
      "text/html": [
       "<style>.container { width:100% !important; }</style>"
      ],
      "text/plain": [
       "<IPython.core.display.HTML object>"
      ]
     },
     "metadata": {},
     "output_type": "display_data"
    }
   ],
   "source": [
    "from IPython.core.display import display, HTML\n",
    "display(HTML(\"<style>.container { width:100% !important; }</style>\"))"
   ]
  },
  {
   "cell_type": "code",
   "execution_count": 2,
   "id": "dimensional-latino",
   "metadata": {},
   "outputs": [],
   "source": [
    "# Necessary packages:\n",
    "import requests\n",
    "import re\n",
    "import os\n",
    "import shutil\n",
    "import sys\n",
    "import pandas as pd"
   ]
  },
  {
   "cell_type": "markdown",
   "id": "permanent-candy",
   "metadata": {},
   "source": [
    "# Euler opera by Euler Society"
   ]
  },
  {
   "cell_type": "code",
   "execution_count": 3,
   "id": "developed-science",
   "metadata": {},
   "outputs": [],
   "source": [
    "eulerSociety=pd.DataFrame()\n",
    "eulerSociety.rea"
   ]
  },
  {
   "cell_type": "code",
   "execution_count": 6,
   "id": "absent-collins",
   "metadata": {},
   "outputs": [],
   "source": [
    "import fitz\n",
    "doc = fitz.open('./data/EulerOperaOmniaIndex.pdf')\n",
    "texts = []\n",
    "for i in range(doc.pageCount):\n",
    "    page = doc.loadPage(i)\n",
    "    texts.append(page.getText('text'))"
   ]
  }
 ],
 "metadata": {
  "kernelspec": {
   "display_name": "Python 3",
   "language": "python",
   "name": "python3"
  },
  "language_info": {
   "codemirror_mode": {
    "name": "ipython",
    "version": 3
   },
   "file_extension": ".py",
   "mimetype": "text/x-python",
   "name": "python",
   "nbconvert_exporter": "python",
   "pygments_lexer": "ipython3",
   "version": "3.8.2"
  }
 },
 "nbformat": 4,
 "nbformat_minor": 5
}
