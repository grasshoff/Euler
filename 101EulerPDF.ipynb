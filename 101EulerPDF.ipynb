{
 "cells": [
  {
   "cell_type": "code",
   "execution_count": 5,
   "id": "distinct-miller",
   "metadata": {},
   "outputs": [
    {
     "data": {
      "text/html": [
       "<style>.container { width:100% !important; }</style>"
      ],
      "text/plain": [
       "<IPython.core.display.HTML object>"
      ]
     },
     "metadata": {},
     "output_type": "display_data"
    }
   ],
   "source": [
    "from IPython.core.display import display, HTML\n",
    "display(HTML(\"<style>.container { width:100% !important; }</style>\"))"
   ]
  },
  {
   "cell_type": "code",
   "execution_count": 6,
   "id": "silver-occurrence",
   "metadata": {},
   "outputs": [],
   "source": [
    "# Necessary packages:\n",
    "import requests\n",
    "import re\n",
    "import os\n",
    "import shutil\n",
    "import sys\n",
    "import pandas as pd"
   ]
  },
  {
   "cell_type": "markdown",
   "id": "weird-recipient",
   "metadata": {},
   "source": [
    "# Euler opera by Euler Society"
   ]
  },
  {
   "cell_type": "code",
   "execution_count": 9,
   "id": "japanese-respondent",
   "metadata": {},
   "outputs": [
    {
     "data": {
      "text/plain": [
       "867"
      ]
     },
     "execution_count": 9,
     "metadata": {},
     "output_type": "execute_result"
    }
   ],
   "source": [
    "eulerSociety=pd.DataFrame()\n",
    "eulerSociety=pd.read_excel(\"./data/euler_works_1.xls\")\n",
    "len(eulerSociety)"
   ]
  },
  {
   "cell_type": "code",
   "execution_count": 10,
   "id": "ranging-footwear",
   "metadata": {},
   "outputs": [
    {
     "name": "stdout",
     "output_type": "stream",
     "text": [
      "<class 'pandas.core.frame.DataFrame'>\n",
      "RangeIndex: 867 entries, 0 to 866\n",
      "Data columns (total 20 columns):\n",
      " #   Column              Non-Null Count  Dtype  \n",
      "---  ------              --------------  -----  \n",
      " 0   title               867 non-null    object \n",
      " 1   eng_title           732 non-null    object \n",
      " 2   id_index_num        866 non-null    float64\n",
      " 3   fuss_index          746 non-null    object \n",
      " 4   language            867 non-null    object \n",
      " 5   written date        813 non-null    object \n",
      " 6   published_date      813 non-null    object \n",
      " 7   presented_date      813 non-null    object \n",
      " 8   pub_type            867 non-null    object \n",
      " 9   document_type       867 non-null    object \n",
      " 10  source_publication  867 non-null    object \n",
      " 11  source_vol          844 non-null    object \n",
      " 12  page_range          859 non-null    object \n",
      " 13  oo_series           832 non-null    float64\n",
      " 14  oo_volnum           832 non-null    object \n",
      " 15  oo_fpage            795 non-null    float64\n",
      " 16  oo_lpage            794 non-null    float64\n",
      " 17  list_view_id_tag    866 non-null    object \n",
      " 18  label               867 non-null    int64  \n",
      " 19  calc_url            867 non-null    object \n",
      "dtypes: float64(4), int64(1), object(15)\n",
      "memory usage: 135.6+ KB\n"
     ]
    }
   ],
   "source": [
    "eulerSociety.info()"
   ]
  },
  {
   "cell_type": "code",
   "execution_count": 11,
   "id": "bibliographic-corrections",
   "metadata": {},
   "outputs": [
    {
     "data": {
      "text/html": [
       "<div>\n",
       "<style scoped>\n",
       "    .dataframe tbody tr th:only-of-type {\n",
       "        vertical-align: middle;\n",
       "    }\n",
       "\n",
       "    .dataframe tbody tr th {\n",
       "        vertical-align: top;\n",
       "    }\n",
       "\n",
       "    .dataframe thead th {\n",
       "        text-align: right;\n",
       "    }\n",
       "</style>\n",
       "<table border=\"1\" class=\"dataframe\">\n",
       "  <thead>\n",
       "    <tr style=\"text-align: right;\">\n",
       "      <th></th>\n",
       "      <th>title</th>\n",
       "      <th>eng_title</th>\n",
       "      <th>id_index_num</th>\n",
       "      <th>fuss_index</th>\n",
       "      <th>language</th>\n",
       "      <th>written date</th>\n",
       "      <th>published_date</th>\n",
       "      <th>presented_date</th>\n",
       "      <th>pub_type</th>\n",
       "      <th>document_type</th>\n",
       "      <th>source_publication</th>\n",
       "      <th>source_vol</th>\n",
       "      <th>page_range</th>\n",
       "      <th>oo_series</th>\n",
       "      <th>oo_volnum</th>\n",
       "      <th>oo_fpage</th>\n",
       "      <th>oo_lpage</th>\n",
       "      <th>list_view_id_tag</th>\n",
       "      <th>label</th>\n",
       "      <th>calc_url</th>\n",
       "    </tr>\n",
       "  </thead>\n",
       "  <tbody>\n",
       "    <tr>\n",
       "      <th>0</th>\n",
       "      <td>Constructio linearum isochronarum in medio quo...</td>\n",
       "      <td>Construction of isochronous curves in a resist...</td>\n",
       "      <td>1.0</td>\n",
       "      <td>NaN</td>\n",
       "      <td>Latin</td>\n",
       "      <td>1725</td>\n",
       "      <td>1725</td>\n",
       "      <td>1725</td>\n",
       "      <td>journal</td>\n",
       "      <td>article</td>\n",
       "      <td>Acta Eruditorum</td>\n",
       "      <td>1726</td>\n",
       "      <td>361-363</td>\n",
       "      <td>2.0</td>\n",
       "      <td>6</td>\n",
       "      <td>1.0</td>\n",
       "      <td>3.0</td>\n",
       "      <td>E1</td>\n",
       "      <td>1</td>\n",
       "      <td>https://scholarlycommons.pacific.edu/euler-wor...</td>\n",
       "    </tr>\n",
       "    <tr>\n",
       "      <th>1</th>\n",
       "      <td>Dissertatio physica de sono</td>\n",
       "      <td>Physical dissertation on sound</td>\n",
       "      <td>2.0</td>\n",
       "      <td>500</td>\n",
       "      <td>Latin</td>\n",
       "      <td>1727</td>\n",
       "      <td>1727</td>\n",
       "      <td>1727</td>\n",
       "      <td>quarto</td>\n",
       "      <td>book</td>\n",
       "      <td>Basel: E. and J. R. Thurnisiorum</td>\n",
       "      <td>1727</td>\n",
       "      <td>208-226</td>\n",
       "      <td>3.0</td>\n",
       "      <td>1</td>\n",
       "      <td>181.0</td>\n",
       "      <td>196.0</td>\n",
       "      <td>E2</td>\n",
       "      <td>2</td>\n",
       "      <td>https://scholarlycommons.pacific.edu/euler-wor...</td>\n",
       "    </tr>\n",
       "    <tr>\n",
       "      <th>2</th>\n",
       "      <td>Methodus inveniendi traiectorias reciprocas al...</td>\n",
       "      <td>On a method for algebraic reciprocal trajectories</td>\n",
       "      <td>3.0</td>\n",
       "      <td>NaN</td>\n",
       "      <td>Latin</td>\n",
       "      <td>1727</td>\n",
       "      <td>1727</td>\n",
       "      <td>1727</td>\n",
       "      <td>journal</td>\n",
       "      <td>article</td>\n",
       "      <td>Acta Eruditorum</td>\n",
       "      <td>1727</td>\n",
       "      <td>408-412</td>\n",
       "      <td>1.0</td>\n",
       "      <td>27</td>\n",
       "      <td>1.0</td>\n",
       "      <td>5.0</td>\n",
       "      <td>E3</td>\n",
       "      <td>3</td>\n",
       "      <td>https://scholarlycommons.pacific.edu/euler-wor...</td>\n",
       "    </tr>\n",
       "  </tbody>\n",
       "</table>\n",
       "</div>"
      ],
      "text/plain": [
       "                                               title  \\\n",
       "0  Constructio linearum isochronarum in medio quo...   \n",
       "1                        Dissertatio physica de sono   \n",
       "2  Methodus inveniendi traiectorias reciprocas al...   \n",
       "\n",
       "                                           eng_title  id_index_num fuss_index  \\\n",
       "0  Construction of isochronous curves in a resist...           1.0        NaN   \n",
       "1                     Physical dissertation on sound           2.0        500   \n",
       "2  On a method for algebraic reciprocal trajectories           3.0        NaN   \n",
       "\n",
       "  language written date published_date presented_date pub_type document_type  \\\n",
       "0    Latin         1725           1725           1725  journal       article   \n",
       "1    Latin         1727           1727           1727   quarto          book   \n",
       "2    Latin         1727           1727           1727  journal       article   \n",
       "\n",
       "                 source_publication source_vol page_range  oo_series  \\\n",
       "0                   Acta Eruditorum       1726    361-363        2.0   \n",
       "1  Basel: E. and J. R. Thurnisiorum       1727    208-226        3.0   \n",
       "2                   Acta Eruditorum       1727    408-412        1.0   \n",
       "\n",
       "  oo_volnum  oo_fpage  oo_lpage list_view_id_tag  label  \\\n",
       "0         6       1.0       3.0               E1      1   \n",
       "1         1     181.0     196.0               E2      2   \n",
       "2        27       1.0       5.0               E3      3   \n",
       "\n",
       "                                            calc_url  \n",
       "0  https://scholarlycommons.pacific.edu/euler-wor...  \n",
       "1  https://scholarlycommons.pacific.edu/euler-wor...  \n",
       "2  https://scholarlycommons.pacific.edu/euler-wor...  "
      ]
     },
     "execution_count": 11,
     "metadata": {},
     "output_type": "execute_result"
    }
   ],
   "source": [
    "eulerSociety.head(3)"
   ]
  },
  {
   "cell_type": "markdown",
   "id": "legendary-awareness",
   "metadata": {},
   "source": [
    "# PDF of Euler OO Index"
   ]
  },
  {
   "cell_type": "code",
   "execution_count": 12,
   "id": "demonstrated-residence",
   "metadata": {},
   "outputs": [
    {
     "ename": "ModuleNotFoundError",
     "evalue": "No module named 'fitz'",
     "output_type": "error",
     "traceback": [
      "\u001b[0;31m---------------------------------------------------------------------------\u001b[0m",
      "\u001b[0;31mModuleNotFoundError\u001b[0m                       Traceback (most recent call last)",
      "\u001b[0;32m<ipython-input-12-085afe740d86>\u001b[0m in \u001b[0;36m<module>\u001b[0;34m\u001b[0m\n\u001b[0;32m----> 1\u001b[0;31m \u001b[0;32mimport\u001b[0m \u001b[0mfitz\u001b[0m\u001b[0;34m\u001b[0m\u001b[0;34m\u001b[0m\u001b[0m\n\u001b[0m\u001b[1;32m      2\u001b[0m \u001b[0mdoc\u001b[0m \u001b[0;34m=\u001b[0m \u001b[0mfitz\u001b[0m\u001b[0;34m.\u001b[0m\u001b[0mopen\u001b[0m\u001b[0;34m(\u001b[0m\u001b[0;34m'./data/EulerOperaOmniaIndex.pdf'\u001b[0m\u001b[0;34m)\u001b[0m\u001b[0;34m\u001b[0m\u001b[0;34m\u001b[0m\u001b[0m\n\u001b[1;32m      3\u001b[0m \u001b[0mtexts\u001b[0m \u001b[0;34m=\u001b[0m \u001b[0;34m[\u001b[0m\u001b[0;34m]\u001b[0m\u001b[0;34m\u001b[0m\u001b[0;34m\u001b[0m\u001b[0m\n\u001b[1;32m      4\u001b[0m \u001b[0;32mfor\u001b[0m \u001b[0mi\u001b[0m \u001b[0;32min\u001b[0m \u001b[0mrange\u001b[0m\u001b[0;34m(\u001b[0m\u001b[0mdoc\u001b[0m\u001b[0;34m.\u001b[0m\u001b[0mpageCount\u001b[0m\u001b[0;34m)\u001b[0m\u001b[0;34m:\u001b[0m\u001b[0;34m\u001b[0m\u001b[0;34m\u001b[0m\u001b[0m\n\u001b[1;32m      5\u001b[0m     \u001b[0mpage\u001b[0m \u001b[0;34m=\u001b[0m \u001b[0mdoc\u001b[0m\u001b[0;34m.\u001b[0m\u001b[0mloadPage\u001b[0m\u001b[0;34m(\u001b[0m\u001b[0mi\u001b[0m\u001b[0;34m)\u001b[0m\u001b[0;34m\u001b[0m\u001b[0;34m\u001b[0m\u001b[0m\n",
      "\u001b[0;31mModuleNotFoundError\u001b[0m: No module named 'fitz'"
     ]
    }
   ],
   "source": [
    "import fitz\n",
    "doc = fitz.open('./data/EulerOperaOmniaIndex.pdf')\n",
    "texts = []\n",
    "for i in range(doc.pageCount):\n",
    "    page = doc.loadPage(i)\n",
    "    texts.append(page.getText('text'))"
   ]
  },
  {
   "cell_type": "code",
   "execution_count": 13,
   "id": "synthetic-coaching",
   "metadata": {},
   "outputs": [
    {
     "ename": "NameError",
     "evalue": "name 'doc' is not defined",
     "output_type": "error",
     "traceback": [
      "\u001b[0;31m---------------------------------------------------------------------------\u001b[0m",
      "\u001b[0;31mNameError\u001b[0m                                 Traceback (most recent call last)",
      "\u001b[0;32m<ipython-input-13-09efa1eef0bc>\u001b[0m in \u001b[0;36m<module>\u001b[0;34m\u001b[0m\n\u001b[0;32m----> 1\u001b[0;31m \u001b[0mgwtoc\u001b[0m\u001b[0;34m=\u001b[0m\u001b[0mdoc\u001b[0m\u001b[0;34m.\u001b[0m\u001b[0mgetToC\u001b[0m\u001b[0;34m(\u001b[0m\u001b[0;34m)\u001b[0m\u001b[0;34m\u001b[0m\u001b[0;34m\u001b[0m\u001b[0m\n\u001b[0m\u001b[1;32m      2\u001b[0m \u001b[0mdocument\u001b[0m\u001b[0;34m=\u001b[0m\u001b[0;34m[\u001b[0m\u001b[0;34m]\u001b[0m\u001b[0;34m\u001b[0m\u001b[0;34m\u001b[0m\u001b[0m\n\u001b[1;32m      3\u001b[0m \u001b[0medgw\u001b[0m\u001b[0;34m=\u001b[0m\u001b[0;34m{\u001b[0m\u001b[0;34m}\u001b[0m\u001b[0;34m\u001b[0m\u001b[0;34m\u001b[0m\u001b[0m\n\u001b[1;32m      4\u001b[0m \u001b[0mgnn\u001b[0m\u001b[0;34m=\u001b[0m\u001b[0mgwfi\u001b[0m\u001b[0;34m.\u001b[0m\u001b[0mname\u001b[0m\u001b[0;34m.\u001b[0m\u001b[0msplit\u001b[0m\u001b[0;34m(\u001b[0m\u001b[0;34m\".\"\u001b[0m\u001b[0;34m)\u001b[0m\u001b[0;34m[\u001b[0m\u001b[0;36m0\u001b[0m\u001b[0;34m]\u001b[0m\u001b[0;34m\u001b[0m\u001b[0;34m\u001b[0m\u001b[0m\n\u001b[1;32m      5\u001b[0m \u001b[0medgw\u001b[0m\u001b[0;34m[\u001b[0m\u001b[0mgwnr\u001b[0m\u001b[0;34m]\u001b[0m\u001b[0;34m=\u001b[0m\u001b[0;34m{\u001b[0m\u001b[0;34m\"file\"\u001b[0m\u001b[0;34m:\u001b[0m\u001b[0mgnn\u001b[0m\u001b[0;34m,\u001b[0m\u001b[0;34m\"toc\"\u001b[0m\u001b[0;34m:\u001b[0m\u001b[0mgwtoc\u001b[0m\u001b[0;34m}\u001b[0m\u001b[0;34m\u001b[0m\u001b[0;34m\u001b[0m\u001b[0m\n",
      "\u001b[0;31mNameError\u001b[0m: name 'doc' is not defined"
     ]
    }
   ],
   "source": [
    "gwtoc=doc.getToC()\n",
    "document=[]\n",
    "edgw={}\n",
    "gnn=gwfi.name.split(\".\")[0]\n",
    "edgw[gwnr]={\"file\":gnn,\"toc\":gwtoc}\n",
    "pagetext={}\n",
    "regex = r\"([a-zé])- \"\n",
    "subst = \"\\\\1\"\n",
    "for pnr,page in enumerate(doc):  # iterate the document pages\n",
    "    bloks=page.getTextBlocks()\n",
    "    pagetext[pnr]=page.getText().replace(\"\\n\",\" \")\n",
    "    for paranr,blk in enumerate(bloks):\n",
    "        blkr=blk[4].replace(\"\\n\", \" \")\n",
    "        blkr=re.sub(regex, subst, blkr, 0, re.MULTILINE)\n",
    "        dlang=cld3.get_language(blkr)\n",
    "        document.append({\"gw\":gwnr,\"p\":pnr,\"pn\":paranr,\"par\":blkr,\"lang\":boolang})"
   ]
  },
  {
   "cell_type": "code",
   "execution_count": null,
   "id": "selected-possession",
   "metadata": {},
   "outputs": [],
   "source": []
  }
 ],
 "metadata": {
  "kernelspec": {
   "display_name": "Python 3",
   "language": "python",
   "name": "python3"
  },
  "language_info": {
   "codemirror_mode": {
    "name": "ipython",
    "version": 3
   },
   "file_extension": ".py",
   "mimetype": "text/x-python",
   "name": "python",
   "nbconvert_exporter": "python",
   "pygments_lexer": "ipython3",
   "version": "3.8.2"
  }
 },
 "nbformat": 4,
 "nbformat_minor": 5
}
